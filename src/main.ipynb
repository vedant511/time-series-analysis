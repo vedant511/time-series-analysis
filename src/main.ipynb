{
 "cells": [
  {
   "cell_type": "markdown",
   "metadata": {},
   "source": [
    "### Import Libraries"
   ]
  },
  {
   "cell_type": "code",
   "execution_count": 1,
   "metadata": {},
   "outputs": [],
   "source": [
    "import pandas as pd\n",
    "import numpy as np\n",
    "import matplotlib.pyplot as plt\n",
    "%matplotlib inline\n",
    "from datetime import datetime\n",
    "import warnings\n",
    "warnings.filterwarnings(\"ignore\")"
   ]
  },
  {
   "cell_type": "markdown",
   "metadata": {},
   "source": [
    "### Load the Datasets"
   ]
  },
  {
   "cell_type": "code",
   "execution_count": 2,
   "metadata": {},
   "outputs": [],
   "source": [
    "test = pd.read_csv(\"../data/Test_0qrQsBZ.csv\")\n",
    "train = pd.read_csv(\"../data/Train_SU63ISt.csv\")"
   ]
  },
  {
   "cell_type": "code",
   "execution_count": 3,
   "metadata": {},
   "outputs": [],
   "source": [
    "test_original=test.copy()\n",
    "train_original=train.copy()"
   ]
  },
  {
   "cell_type": "markdown",
   "metadata": {},
   "source": [
    "### Understand Data Structure & Content"
   ]
  },
  {
   "cell_type": "code",
   "execution_count": 20,
   "metadata": {},
   "outputs": [
    {
     "name": "stdout",
     "output_type": "stream",
     "text": [
      "=====Train Data Columns=====\n",
      "Index(['ID', 'Datetime', 'Count'], dtype='object')\n",
      "\n",
      "=====Test Data Columns=====\n",
      "Index(['ID', 'Datetime'], dtype='object')\n"
     ]
    }
   ],
   "source": [
    "print(\"=====Train Data Columns=====\")\n",
    "print(train.columns)\n",
    "print(\"\\n=====Test Data Columns=====\")\n",
    "print(test.columns)"
   ]
  },
  {
   "cell_type": "code",
   "execution_count": 15,
   "metadata": {},
   "outputs": [
    {
     "name": "stdout",
     "output_type": "stream",
     "text": [
      "=====Train data types=====\n",
      "ID           int64\n",
      "Datetime    object\n",
      "Count        int64\n",
      "dtype: object\n",
      "\n",
      "=====Test data types=====\n",
      "ID           int64\n",
      "Datetime    object\n",
      "dtype: object\n"
     ]
    }
   ],
   "source": [
    "print(\"=====Train data types=====\")\n",
    "print(train.dtypes)\n",
    "print(\"\\n=====Test data types=====\")\n",
    "print(test.dtypes)"
   ]
  },
  {
   "cell_type": "code",
   "execution_count": 19,
   "metadata": {},
   "outputs": [
    {
     "name": "stdout",
     "output_type": "stream",
     "text": [
      "=====Train Data=====\n",
      "   ID          Datetime  Count\n",
      "0   0  25-08-2012 00:00      8\n",
      "1   1  25-08-2012 01:00      2\n",
      "2   2  25-08-2012 02:00      6\n",
      "3   3  25-08-2012 03:00      2\n",
      "4   4  25-08-2012 04:00      2\n",
      "\n",
      "=====Test Data=====\n",
      "      ID          Datetime\n",
      "0  18288  26-09-2014 00:00\n",
      "1  18289  26-09-2014 01:00\n",
      "2  18290  26-09-2014 02:00\n",
      "3  18291  26-09-2014 03:00\n",
      "4  18292  26-09-2014 04:00\n"
     ]
    }
   ],
   "source": [
    "print(\"=====Train Data=====\")\n",
    "print(train.head())\n",
    "print(\"\\n=====Test Data=====\")\n",
    "print(test.head())"
   ]
  },
  {
   "cell_type": "code",
   "execution_count": 18,
   "metadata": {},
   "outputs": [
    {
     "name": "stdout",
     "output_type": "stream",
     "text": [
      "=====Train Data size=====\n",
      "(18288, 3)\n",
      "\n",
      "=====Test Data size=====\n",
      "(5112, 2)\n"
     ]
    }
   ],
   "source": [
    "print(\"=====Train Data size=====\")\n",
    "print(train.shape)\n",
    "print(\"\\n=====Test Data size=====\")\n",
    "print(test.shape)"
   ]
  },
  {
   "cell_type": "code",
   "execution_count": null,
   "metadata": {},
   "outputs": [],
   "source": []
  }
 ],
 "metadata": {
  "kernelspec": {
   "display_name": "Python 3",
   "language": "python",
   "name": "python3"
  },
  "language_info": {
   "codemirror_mode": {
    "name": "ipython",
    "version": 3
   },
   "file_extension": ".py",
   "mimetype": "text/x-python",
   "name": "python",
   "nbconvert_exporter": "python",
   "pygments_lexer": "ipython3",
   "version": "3.6.5"
  }
 },
 "nbformat": 4,
 "nbformat_minor": 2
}
